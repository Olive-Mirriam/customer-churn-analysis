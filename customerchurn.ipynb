{
 "cells": [
  {
   "cell_type": "markdown",
   "metadata": {},
   "source": [
    "\n",
    "# CUSTOMER CHURN ANALYSIS FOR A TELECOMMUNICATIONS COMPANY #\n"
   ]
  },
  {
   "cell_type": "markdown",
   "metadata": {},
   "source": [
    "# 📊 BUSINESS UNDERSTANDING"
   ]
  },
  {
   "cell_type": "markdown",
   "metadata": {},
   "source": [
    "# Objectives\n",
    "\n",
    "When customers leave or cancel a service, it causes major issues in the telecoms industry which is typically known as *Customer Churn*. \n",
    "\n",
    "High churn not only results in lost revenue but also increases the cost of acquiring and onboarding new customers. Retaining existing customers is typically far more cost-effective than constantly seeking replacements.\n",
    "\n",
    "The telecom company in focus is experiencing revenue losses due to a considerable number of customers leaving their services prematurely. To mitigate this issue, there is a strong business need to better understand the behavioral and service-related patterns that lead to customer churn.\n"
   ]
  },
  {
   "cell_type": "markdown",
   "metadata": {},
   "source": [
    "# Key Business Question\n",
    "**\"Are there any predictable patterns in customer churn?\"**\n",
    "\n",
    "By identifying such patterns, the company can:\n",
    "- Develop targeted retention strategies,\n",
    "- Intervene proactively before a customer decides to leave,\n",
    "- Optimize customer service and pricing plans,\n",
    "- Allocate marketing resources more effectively.\n",
    "\n",
    "The ultimate goal is to support the business in making **data-driven decisions** that will reduce churn, retain high-value customers, and minimize revenue leakage.\n",
    "\n",
    "This analysis is designed to provide insights in a clear and actionable format for business stakeholders, including the strategy, marketing, and customer service teams.\n"
   ]
  },
  {
   "cell_type": "markdown",
   "metadata": {},
   "source": [
    "# 🧾 Data Understanding"
   ]
  },
  {
   "cell_type": "markdown",
   "metadata": {},
   "source": [
    "## Data Understanding\n",
    "\n",
    "This project uses the `bigml_59c28831336c6604c800002a.csv` file, which contains historical data about SyriaTel’s customers. The purpose of this analysis is to explore the characteristics and behaviors of customers who have left (churned) and those who have stayed, in order to identify patterns that may help prevent future churn.\n",
    "\n",
    "Each row in the dataset represents a unique customer, and each column provides specific information about their demographics, service usage, and interaction with the company.\n",
    "\n",
    "### 🔑 Key Features in the Dataset:\n",
    "\n",
    "- **State**: U.S. state where the customer is located (not Syria-specific, but used for modeling purposes).\n",
    "- **Account Length**: The number of days the customer has been with the company.\n",
    "- **Area Code**: Telephone area code of the customer.\n",
    "- **Phone**: Unique customer phone number (not useful for prediction).\n",
    "- **International Plan**: Whether the customer has an international calling plan (`yes` or `no`).\n",
    "- **Voice Mail Plan**: Whether the customer has a voicemail plan.\n",
    "- **Voice Mail Message**: Number of voicemail messages (if applicable).\n",
    "- **Total Day Mins / Calls / Charge**: Usage metrics for daytime calls.\n",
    "- **Total Evening Mins / Calls / Charge**: Usage metrics for evening calls.\n",
    "- **Total Night Mins / Calls / Charge**: Usage metrics for night calls.\n",
    "- **Total International Mins / Calls / Charge**: International call usage and cost.\n",
    "- **Customer Service Calls**: Number of times the customer has contacted customer service.\n",
    "- **Churn**: The **target variable**, indicating whether the customer has churned (`True`) or stayed (`False`).\n",
    "\n",
    "### 🧠 Target Variable:\n",
    "\n",
    "- **Churn**: This is the variable we want to predict. It is a **binary classification** problem:\n",
    "  - `True`: The customer has churned (left the company).\n",
    "  - `False`: The customer is still active.\n",
    "\n",
    "### 📝 Initial Observations:\n",
    "\n",
    "- Many features are **numerical** (e.g., minutes, charges, calls), while some are **categorical** (e.g., International Plan, Voice Mail Plan).\n",
    "- Features like `phone number` and `state` may not provide useful predictive power and could be dropped or treated accordingly.\n",
    "- Variables such as **number of customer service calls**, **international plan**, or **high daily call charges** may indicate higher churn risk.\n",
    "\n",
    "Understanding the dataset’s structure is critical for selecting relevant features and preparing the data for modeling.\n"
   ]
  },
  {
   "cell_type": "markdown",
   "metadata": {},
   "source": [
    "# 🧹 Data Preparation\n",
    "\n",
    "Before building any predictive model, it’s crucial to clean and prepare the dataset. This involves handling missing values, converting categorical variables to numerical formats, and removing irrelevant columns.\n",
    "\n",
    "### Steps we'll follow:\n",
    "\n",
    "1. **Remove or transform irrelevant columns:**  \n",
    "   Columns like `phone number` and `state` likely don't help prediction and can be dropped.\n",
    "\n",
    "2. **Handle categorical variables:**  \n",
    "   Features such as `International Plan` and `Voice Mail Plan` need to be converted from text (`yes`/`no`) into binary numeric values (0/1).\n",
    "\n",
    "3. **Check for missing or inconsistent values:**  \n",
    "   Make sure the dataset is clean.\n",
    "\n",
    "4. **Split the dataset into features (`X`) and target (`y`).**\n",
    "\n"
   ]
  },
  {
   "cell_type": "markdown",
   "metadata": {},
   "source": [
    "# 📥 Data Loading and Cleaning"
   ]
  },
  {
   "cell_type": "markdown",
   "metadata": {},
   "source": [
    "## Data Loading\n",
    "\n",
    "In this section, we will load the SyriaTel customer churn dataset, inspect its structure, and clean it by handling irrelevant columns, converting categorical variables, and checking for missing values.\n",
    "\n",
    "\n",
    "### Step 1: Load the dataset and preview it"
   ]
  },
  {
   "cell_type": "code",
   "execution_count": 28,
   "metadata": {},
   "outputs": [],
   "source": [
    "import pandas as pd\n",
    "\n",
    "#Load the dataset\n",
    "\n",
    "df = pd.read_csv('bigml_59c28831336c6604c800002a.csv')"
   ]
  },
  {
   "cell_type": "code",
   "execution_count": 29,
   "metadata": {},
   "outputs": [
    {
     "data": {
      "text/html": [
       "<div>\n",
       "<style scoped>\n",
       "    .dataframe tbody tr th:only-of-type {\n",
       "        vertical-align: middle;\n",
       "    }\n",
       "\n",
       "    .dataframe tbody tr th {\n",
       "        vertical-align: top;\n",
       "    }\n",
       "\n",
       "    .dataframe thead th {\n",
       "        text-align: right;\n",
       "    }\n",
       "</style>\n",
       "<table border=\"1\" class=\"dataframe\">\n",
       "  <thead>\n",
       "    <tr style=\"text-align: right;\">\n",
       "      <th></th>\n",
       "      <th>state</th>\n",
       "      <th>account length</th>\n",
       "      <th>area code</th>\n",
       "      <th>phone number</th>\n",
       "      <th>international plan</th>\n",
       "      <th>voice mail plan</th>\n",
       "      <th>number vmail messages</th>\n",
       "      <th>total day minutes</th>\n",
       "      <th>total day calls</th>\n",
       "      <th>total day charge</th>\n",
       "      <th>...</th>\n",
       "      <th>total eve calls</th>\n",
       "      <th>total eve charge</th>\n",
       "      <th>total night minutes</th>\n",
       "      <th>total night calls</th>\n",
       "      <th>total night charge</th>\n",
       "      <th>total intl minutes</th>\n",
       "      <th>total intl calls</th>\n",
       "      <th>total intl charge</th>\n",
       "      <th>customer service calls</th>\n",
       "      <th>churn</th>\n",
       "    </tr>\n",
       "  </thead>\n",
       "  <tbody>\n",
       "    <tr>\n",
       "      <th>0</th>\n",
       "      <td>KS</td>\n",
       "      <td>128</td>\n",
       "      <td>415</td>\n",
       "      <td>382-4657</td>\n",
       "      <td>no</td>\n",
       "      <td>yes</td>\n",
       "      <td>25</td>\n",
       "      <td>265.1</td>\n",
       "      <td>110</td>\n",
       "      <td>45.07</td>\n",
       "      <td>...</td>\n",
       "      <td>99</td>\n",
       "      <td>16.78</td>\n",
       "      <td>244.7</td>\n",
       "      <td>91</td>\n",
       "      <td>11.01</td>\n",
       "      <td>10.0</td>\n",
       "      <td>3</td>\n",
       "      <td>2.70</td>\n",
       "      <td>1</td>\n",
       "      <td>False</td>\n",
       "    </tr>\n",
       "    <tr>\n",
       "      <th>1</th>\n",
       "      <td>OH</td>\n",
       "      <td>107</td>\n",
       "      <td>415</td>\n",
       "      <td>371-7191</td>\n",
       "      <td>no</td>\n",
       "      <td>yes</td>\n",
       "      <td>26</td>\n",
       "      <td>161.6</td>\n",
       "      <td>123</td>\n",
       "      <td>27.47</td>\n",
       "      <td>...</td>\n",
       "      <td>103</td>\n",
       "      <td>16.62</td>\n",
       "      <td>254.4</td>\n",
       "      <td>103</td>\n",
       "      <td>11.45</td>\n",
       "      <td>13.7</td>\n",
       "      <td>3</td>\n",
       "      <td>3.70</td>\n",
       "      <td>1</td>\n",
       "      <td>False</td>\n",
       "    </tr>\n",
       "    <tr>\n",
       "      <th>2</th>\n",
       "      <td>NJ</td>\n",
       "      <td>137</td>\n",
       "      <td>415</td>\n",
       "      <td>358-1921</td>\n",
       "      <td>no</td>\n",
       "      <td>no</td>\n",
       "      <td>0</td>\n",
       "      <td>243.4</td>\n",
       "      <td>114</td>\n",
       "      <td>41.38</td>\n",
       "      <td>...</td>\n",
       "      <td>110</td>\n",
       "      <td>10.30</td>\n",
       "      <td>162.6</td>\n",
       "      <td>104</td>\n",
       "      <td>7.32</td>\n",
       "      <td>12.2</td>\n",
       "      <td>5</td>\n",
       "      <td>3.29</td>\n",
       "      <td>0</td>\n",
       "      <td>False</td>\n",
       "    </tr>\n",
       "    <tr>\n",
       "      <th>3</th>\n",
       "      <td>OH</td>\n",
       "      <td>84</td>\n",
       "      <td>408</td>\n",
       "      <td>375-9999</td>\n",
       "      <td>yes</td>\n",
       "      <td>no</td>\n",
       "      <td>0</td>\n",
       "      <td>299.4</td>\n",
       "      <td>71</td>\n",
       "      <td>50.90</td>\n",
       "      <td>...</td>\n",
       "      <td>88</td>\n",
       "      <td>5.26</td>\n",
       "      <td>196.9</td>\n",
       "      <td>89</td>\n",
       "      <td>8.86</td>\n",
       "      <td>6.6</td>\n",
       "      <td>7</td>\n",
       "      <td>1.78</td>\n",
       "      <td>2</td>\n",
       "      <td>False</td>\n",
       "    </tr>\n",
       "    <tr>\n",
       "      <th>4</th>\n",
       "      <td>OK</td>\n",
       "      <td>75</td>\n",
       "      <td>415</td>\n",
       "      <td>330-6626</td>\n",
       "      <td>yes</td>\n",
       "      <td>no</td>\n",
       "      <td>0</td>\n",
       "      <td>166.7</td>\n",
       "      <td>113</td>\n",
       "      <td>28.34</td>\n",
       "      <td>...</td>\n",
       "      <td>122</td>\n",
       "      <td>12.61</td>\n",
       "      <td>186.9</td>\n",
       "      <td>121</td>\n",
       "      <td>8.41</td>\n",
       "      <td>10.1</td>\n",
       "      <td>3</td>\n",
       "      <td>2.73</td>\n",
       "      <td>3</td>\n",
       "      <td>False</td>\n",
       "    </tr>\n",
       "  </tbody>\n",
       "</table>\n",
       "<p>5 rows × 21 columns</p>\n",
       "</div>"
      ],
      "text/plain": [
       "  state  account length  area code phone number international plan  \\\n",
       "0    KS             128        415     382-4657                 no   \n",
       "1    OH             107        415     371-7191                 no   \n",
       "2    NJ             137        415     358-1921                 no   \n",
       "3    OH              84        408     375-9999                yes   \n",
       "4    OK              75        415     330-6626                yes   \n",
       "\n",
       "  voice mail plan  number vmail messages  total day minutes  total day calls  \\\n",
       "0             yes                     25              265.1              110   \n",
       "1             yes                     26              161.6              123   \n",
       "2              no                      0              243.4              114   \n",
       "3              no                      0              299.4               71   \n",
       "4              no                      0              166.7              113   \n",
       "\n",
       "   total day charge  ...  total eve calls  total eve charge  \\\n",
       "0             45.07  ...               99             16.78   \n",
       "1             27.47  ...              103             16.62   \n",
       "2             41.38  ...              110             10.30   \n",
       "3             50.90  ...               88              5.26   \n",
       "4             28.34  ...              122             12.61   \n",
       "\n",
       "   total night minutes  total night calls  total night charge  \\\n",
       "0                244.7                 91               11.01   \n",
       "1                254.4                103               11.45   \n",
       "2                162.6                104                7.32   \n",
       "3                196.9                 89                8.86   \n",
       "4                186.9                121                8.41   \n",
       "\n",
       "   total intl minutes  total intl calls  total intl charge  \\\n",
       "0                10.0                 3               2.70   \n",
       "1                13.7                 3               3.70   \n",
       "2                12.2                 5               3.29   \n",
       "3                 6.6                 7               1.78   \n",
       "4                10.1                 3               2.73   \n",
       "\n",
       "   customer service calls  churn  \n",
       "0                       1  False  \n",
       "1                       1  False  \n",
       "2                       0  False  \n",
       "3                       2  False  \n",
       "4                       3  False  \n",
       "\n",
       "[5 rows x 21 columns]"
      ]
     },
     "execution_count": 29,
     "metadata": {},
     "output_type": "execute_result"
    }
   ],
   "source": [
    "#Preview the data\n",
    "\n",
    "df.head()"
   ]
  },
  {
   "cell_type": "code",
   "execution_count": 30,
   "metadata": {},
   "outputs": [
    {
     "name": "stdout",
     "output_type": "stream",
     "text": [
      "<class 'pandas.core.frame.DataFrame'>\n",
      "RangeIndex: 3333 entries, 0 to 3332\n",
      "Data columns (total 21 columns):\n",
      " #   Column                  Non-Null Count  Dtype  \n",
      "---  ------                  --------------  -----  \n",
      " 0   state                   3333 non-null   object \n",
      " 1   account length          3333 non-null   int64  \n",
      " 2   area code               3333 non-null   int64  \n",
      " 3   phone number            3333 non-null   object \n",
      " 4   international plan      3333 non-null   object \n",
      " 5   voice mail plan         3333 non-null   object \n",
      " 6   number vmail messages   3333 non-null   int64  \n",
      " 7   total day minutes       3333 non-null   float64\n",
      " 8   total day calls         3333 non-null   int64  \n",
      " 9   total day charge        3333 non-null   float64\n",
      " 10  total eve minutes       3333 non-null   float64\n",
      " 11  total eve calls         3333 non-null   int64  \n",
      " 12  total eve charge        3333 non-null   float64\n",
      " 13  total night minutes     3333 non-null   float64\n",
      " 14  total night calls       3333 non-null   int64  \n",
      " 15  total night charge      3333 non-null   float64\n",
      " 16  total intl minutes      3333 non-null   float64\n",
      " 17  total intl calls        3333 non-null   int64  \n",
      " 18  total intl charge       3333 non-null   float64\n",
      " 19  customer service calls  3333 non-null   int64  \n",
      " 20  churn                   3333 non-null   bool   \n",
      "dtypes: bool(1), float64(8), int64(8), object(4)\n",
      "memory usage: 524.2+ KB\n"
     ]
    }
   ],
   "source": [
    "#Get basic info about data types and non - null counts\n",
    "\n",
    "df.info()"
   ]
  },
  {
   "cell_type": "markdown",
   "metadata": {},
   "source": [
    "## Data Cleaning\n",
    " \n",
    "We will remove columns that are unlikely to predict churn:\n",
    "\n",
    "- *State* :  Customer's state (location)\n",
    "- *Phone number* : Unique customer identifier, not predictive"
   ]
  },
  {
   "cell_type": "code",
   "execution_count": 31,
   "metadata": {},
   "outputs": [
    {
     "name": "stdout",
     "output_type": "stream",
     "text": [
      "['state', 'account length', 'area code', 'phone number', 'international plan', 'voice mail plan', 'number vmail messages', 'total day minutes', 'total day calls', 'total day charge', 'total eve minutes', 'total eve calls', 'total eve charge', 'total night minutes', 'total night calls', 'total night charge', 'total intl minutes', 'total intl calls', 'total intl charge', 'customer service calls', 'churn']\n"
     ]
    }
   ],
   "source": [
    "print(df.columns.tolist())"
   ]
  },
  {
   "cell_type": "code",
   "execution_count": 32,
   "metadata": {},
   "outputs": [
    {
     "name": "stdout",
     "output_type": "stream",
     "text": [
      "\n",
      " Columns after dropping irrelevant ones:\n",
      "Index(['account length', 'area code', 'international plan', 'voice mail plan',\n",
      "       'number vmail messages', 'total day minutes', 'total day calls',\n",
      "       'total day charge', 'total eve minutes', 'total eve calls',\n",
      "       'total eve charge', 'total night minutes', 'total night calls',\n",
      "       'total night charge', 'total intl minutes', 'total intl calls',\n",
      "       'total intl charge', 'customer service calls', 'churn'],\n",
      "      dtype='object')\n"
     ]
    }
   ],
   "source": [
    "#Drop 'state' and 'phone number' columns\n",
    "\n",
    "df.drop(['state','phone number'], axis=1, inplace=True)\n",
    "\n",
    "print('\\n Columns after dropping irrelevant ones:')\n",
    "print (df.columns)"
   ]
  },
  {
   "cell_type": "markdown",
   "metadata": {},
   "source": [
    "## *Converting categorical columns to numeric*\n",
    "\n",
    "That is converting *International plan* and *Voice mail plan* from \"yes\"/\"no\" strings to binary 0/1 values for model compatibility."
   ]
  },
  {
   "cell_type": "code",
   "execution_count": 33,
   "metadata": {},
   "outputs": [
    {
     "name": "stdout",
     "output_type": "stream",
     "text": [
      "\n",
      " Sample after converting categorical variables:\n"
     ]
    },
    {
     "data": {
      "text/html": [
       "<div>\n",
       "<style scoped>\n",
       "    .dataframe tbody tr th:only-of-type {\n",
       "        vertical-align: middle;\n",
       "    }\n",
       "\n",
       "    .dataframe tbody tr th {\n",
       "        vertical-align: top;\n",
       "    }\n",
       "\n",
       "    .dataframe thead th {\n",
       "        text-align: right;\n",
       "    }\n",
       "</style>\n",
       "<table border=\"1\" class=\"dataframe\">\n",
       "  <thead>\n",
       "    <tr style=\"text-align: right;\">\n",
       "      <th></th>\n",
       "      <th>international plan</th>\n",
       "      <th>voice mail plan</th>\n",
       "    </tr>\n",
       "  </thead>\n",
       "  <tbody>\n",
       "    <tr>\n",
       "      <th>0</th>\n",
       "      <td>0</td>\n",
       "      <td>1</td>\n",
       "    </tr>\n",
       "    <tr>\n",
       "      <th>1</th>\n",
       "      <td>0</td>\n",
       "      <td>1</td>\n",
       "    </tr>\n",
       "    <tr>\n",
       "      <th>2</th>\n",
       "      <td>0</td>\n",
       "      <td>0</td>\n",
       "    </tr>\n",
       "    <tr>\n",
       "      <th>3</th>\n",
       "      <td>1</td>\n",
       "      <td>0</td>\n",
       "    </tr>\n",
       "    <tr>\n",
       "      <th>4</th>\n",
       "      <td>1</td>\n",
       "      <td>0</td>\n",
       "    </tr>\n",
       "  </tbody>\n",
       "</table>\n",
       "</div>"
      ],
      "text/plain": [
       "   international plan  voice mail plan\n",
       "0                   0                1\n",
       "1                   0                1\n",
       "2                   0                0\n",
       "3                   1                0\n",
       "4                   1                0"
      ]
     },
     "metadata": {},
     "output_type": "display_data"
    }
   ],
   "source": [
    "# Map yes/no to 0/1 for categorical variables\n",
    "df['international plan'] = df ['international plan'].map({'yes': 1, 'no' : 0})\n",
    "df['voice mail plan'] = df ['voice mail plan'].map({'yes':1, 'no':0})\n",
    "\n",
    "\n",
    "print (\"\\n Sample after converting categorical variables:\")\n",
    "\n",
    "display(df[['international plan', 'voice mail plan']].head())"
   ]
  },
  {
   "cell_type": "markdown",
   "metadata": {},
   "source": [
    "## *Converting Target Variable*\n",
    "The target variable '*churn*' is currently a boolean,that is, \"True\" / \"False\"\n",
    "Convert it no numerical values 1 churn and 0 no churn"
   ]
  },
  {
   "cell_type": "code",
   "execution_count": 34,
   "metadata": {},
   "outputs": [
    {
     "name": "stdout",
     "output_type": "stream",
     "text": [
      "\n",
      " Distribution of the target variable: \n",
      "0    2850\n",
      "1     483\n",
      "Name: churn, dtype: int64\n"
     ]
    }
   ],
   "source": [
    "df['churn'] = df ['churn'].map({True:1, False:0})\n",
    "\n",
    "print(\"\\n Distribution of the target variable: \")\n",
    "\n",
    "print(df['churn'].value_counts())"
   ]
  },
  {
   "cell_type": "markdown",
   "metadata": {},
   "source": [
    "## *Check for missing values*\n",
    "\n",
    "Check if the data has missing values that need to be handled before modeling."
   ]
  },
  {
   "cell_type": "code",
   "execution_count": 35,
   "metadata": {},
   "outputs": [
    {
     "name": "stdout",
     "output_type": "stream",
     "text": [
      "\n",
      " Missing values in each column: \n",
      "Series([], dtype: int64)\n"
     ]
    }
   ],
   "source": [
    "missing_values = df.isnull().sum()\n",
    "\n",
    "print(\"\\n Missing values in each column: \")\n",
    "print (missing_values[missing_values > 0])"
   ]
  },
  {
   "cell_type": "markdown",
   "metadata": {},
   "source": [
    "# *Summary*\n",
    "• Categorical columns and target variable are numeric \n",
    "\n",
    "\n",
    "• No missing values detected\n",
    "\n",
    "\n",
    "• The dataset is now cleaned and ready for analysis"
   ]
  },
  {
   "cell_type": "markdown",
   "metadata": {},
   "source": [
    "# ✅ Modeling Plan"
   ]
  },
  {
   "cell_type": "markdown",
   "metadata": {},
   "source": [
    "\n",
    "1. Split the data into train/ test sets\n",
    "\n",
    "\n",
    "2. Train models, that is, logistic regression, decision tree and random forest\n",
    "\n",
    "\n",
    "3. Evaluate them using accuracy, confusion matrix and classification report \n",
    "\n",
    "\n",
    "4. Pick the best model"
   ]
  },
  {
   "cell_type": "markdown",
   "metadata": {},
   "source": [
    "## *⚙️ 1. Train/Test Split*"
   ]
  },
  {
   "cell_type": "code",
   "execution_count": 36,
   "metadata": {},
   "outputs": [],
   "source": [
    "from sklearn.model_selection import train_test_split\n",
    "\n",
    "#Define features and targets\n",
    "\n",
    "X = df.drop('churn', axis=1)\n",
    "y = df['churn']\n",
    "\n",
    "\n",
    "#Split into train and test sets, ie 80% train, 20% test\n",
    "X_train, X_test, y_train, y_test = train_test_split(X, y, test_size=0.2, random_state=42, stratify=y)"
   ]
  },
  {
   "cell_type": "code",
   "execution_count": 38,
   "metadata": {},
   "outputs": [
    {
     "name": "stdout",
     "output_type": "stream",
     "text": [
      "X_train shape: (2666, 18)\n",
      "X_test shape: (667, 18)\n",
      "y_train shape: (2666,)\n",
      "y_test shape: (667,)\n"
     ]
    }
   ],
   "source": [
    "#Confirm it worked correctly\n",
    "print(f\"X_train shape: {X_train.shape}\")\n",
    "print(f\"X_test shape: {X_test.shape}\")\n",
    "print(f\"y_train shape: {y_train.shape}\")\n",
    "print(f\"y_test shape: {y_test.shape}\")"
   ]
  },
  {
   "cell_type": "code",
   "execution_count": 39,
   "metadata": {},
   "outputs": [],
   "source": [
    "from sklearn.preprocessing import StandardScaler\n",
    "\n",
    "scaler = StandardScaler()\n",
    "\n",
    "\n",
    "#Fit only on training data to avoid data leakage\n",
    "\n",
    "X_train_scaled  = scaler.fit_transform(X_train)\n",
    "X_test_scaled = scaler.transform(X_test)"
   ]
  },
  {
   "cell_type": "code",
   "execution_count": 41,
   "metadata": {},
   "outputs": [
    {
     "name": "stdout",
     "output_type": "stream",
     "text": [
      "Mean of X_test_scaled (not necessarily 0):\n",
      "[ 0.01  0.08  0.02  0.02  0.02  0.01 -0.01  0.01  0.03  0.01  0.03  0.04\n",
      "  0.07  0.04 -0.01 -0.05 -0.01  0.01]\n"
     ]
    }
   ],
   "source": [
    "#Confirm the data set is not leaking info\n",
    "\n",
    "import numpy as np\n",
    "\n",
    "print(\"Mean of X_test_scaled (not necessarily 0):\")\n",
    "print(np.round(X_test_scaled.mean(axis=0), 2))"
   ]
  },
  {
   "cell_type": "markdown",
   "metadata": {},
   "source": [
    "## *🧪 2. Train Multiple Models*"
   ]
  },
  {
   "cell_type": "markdown",
   "metadata": {},
   "source": [
    "*LOGISTIC REGRESSION*"
   ]
  },
  {
   "cell_type": "code",
   "execution_count": 42,
   "metadata": {},
   "outputs": [],
   "source": [
    "\n",
    "from sklearn.linear_model import LogisticRegression\n",
    "\n",
    "logreg = LogisticRegression()\n",
    "logreg.fit(X_train_scaled, y_train)\n",
    "logreg_preds = logreg.predict(X_test_scaled)"
   ]
  },
  {
   "cell_type": "code",
   "execution_count": 43,
   "metadata": {},
   "outputs": [
    {
     "name": "stdout",
     "output_type": "stream",
     "text": [
      "Intercept: [-2.32551398]\n",
      "Coefficients:\n",
      " [[ 0.0378746  -0.03103098  0.59404869 -0.94447484  0.54135453  0.33190363\n",
      "   0.07206421  0.33248301  0.18634996  0.04863174  0.18778607  0.06106098\n",
      "   0.00667268  0.07166265  0.10547969 -0.23396068  0.14368151  0.73772356]]\n"
     ]
    }
   ],
   "source": [
    "#Ensure the model is trained\n",
    "# Model coefficients\n",
    "print(\"Intercept:\", logreg.intercept_)\n",
    "print(\"Coefficients:\\n\", logreg.coef_)"
   ]
  },
  {
   "cell_type": "code",
   "execution_count": 50,
   "metadata": {},
   "outputs": [],
   "source": [
    "\n",
    "logreg = LogisticRegression(\n",
    "    penalty='l2',          # Regularization type: 'l1', 'l2', or 'elasticnet'\n",
    "    C=1.0,                 # Inverse of regularization strength (lower = stronger regularization)\n",
    "    solver='liblinear',    # Algorithm to use (good for small datasets or L1 penalty)\n",
    "    max_iter=100,          # Number of iterations to converge\n",
    "    class_weight='balanced', # Helps when dealing with imbalanced classes like churn\n",
    "    random_state=42\n",
    ")"
   ]
  },
  {
   "cell_type": "markdown",
   "metadata": {},
   "source": [
    "*DECISION TREE*"
   ]
  },
  {
   "cell_type": "code",
   "execution_count": 44,
   "metadata": {},
   "outputs": [],
   "source": [
    "\n",
    "\n",
    "from sklearn.tree import DecisionTreeClassifier\n",
    "\n",
    "dtree = DecisionTreeClassifier(random_state=42)\n",
    "dtree.fit (X_train, y_train)\n",
    "dtree.preds = dtree.predict(X_test)\n"
   ]
  },
  {
   "cell_type": "code",
   "execution_count": 45,
   "metadata": {},
   "outputs": [
    {
     "name": "stdout",
     "output_type": "stream",
     "text": [
      "Tree depth: 18\n",
      "Number of leaves: 158\n"
     ]
    }
   ],
   "source": [
    "#Checking whether the model is trained and has structure\n",
    "\n",
    "print(\"Tree depth:\", dtree.get_depth())\n",
    "print(\"Number of leaves:\", dtree.get_n_leaves())"
   ]
  },
  {
   "cell_type": "code",
   "execution_count": 51,
   "metadata": {},
   "outputs": [],
   "source": [
    "\n",
    "dtree = DecisionTreeClassifier(\n",
    "    criterion='gini',      # Split quality: 'gini' or 'entropy'\n",
    "    max_depth=5,           # Max depth of the tree (limits overfitting)\n",
    "    min_samples_split=10,  # Min samples needed to split a node\n",
    "    min_samples_leaf=5,    # Min samples required at a leaf node\n",
    "    max_features='sqrt',   # Number of features to consider at each split\n",
    "    class_weight='balanced', # Helps balance churn vs non-churn\n",
    "    random_state=42\n",
    ")\n"
   ]
  },
  {
   "cell_type": "markdown",
   "metadata": {},
   "source": [
    "*RANDOM FOREST*"
   ]
  },
  {
   "cell_type": "code",
   "execution_count": 46,
   "metadata": {},
   "outputs": [],
   "source": [
    "\n",
    "from sklearn.ensemble import RandomForestClassifier\n",
    "\n",
    "rf = RandomForestClassifier(random_state=42)\n",
    "rf.fit(X_train, y_train)\n",
    "rf_preds = rf.predict(X_test)"
   ]
  },
  {
   "cell_type": "code",
   "execution_count": 47,
   "metadata": {},
   "outputs": [
    {
     "name": "stdout",
     "output_type": "stream",
     "text": [
      "Number of trees: 100\n",
      "Feature importances: [0.02846454 0.00814582 0.07346751 0.026773   0.03088781 0.13881748\n",
      " 0.03196414 0.1473693  0.06637091 0.0272243  0.06251155 0.03485825\n",
      " 0.02753442 0.03389391 0.03839857 0.053686   0.04386784 0.12576464]\n"
     ]
    }
   ],
   "source": [
    "#Check model training info\n",
    "\n",
    "# Number of trees in the forest\n",
    "print(\"Number of trees:\", len(rf.estimators_))\n",
    "\n",
    "# Check feature importances (should be a non-empty array)\n",
    "print(\"Feature importances:\", rf.feature_importances_)"
   ]
  },
  {
   "cell_type": "code",
   "execution_count": 52,
   "metadata": {},
   "outputs": [],
   "source": [
    "\n",
    "rf = RandomForestClassifier(\n",
    "    n_estimators=100,       # Number of trees in the forest\n",
    "    max_depth=10,           # Max depth of each tree\n",
    "    min_samples_split=5,    # Min samples to split an internal node\n",
    "    min_samples_leaf=2,     # Min samples at a leaf node\n",
    "    max_features='sqrt',    # Number of features to consider at each split\n",
    "    bootstrap=True,         # Use bootstrapped samples\n",
    "    class_weight='balanced',# Account for churn class imbalance\n",
    "    random_state=42\n",
    ")\n"
   ]
  },
  {
   "cell_type": "markdown",
   "metadata": {},
   "source": [
    "## *📊 3. Evaluate them using accuracy, confusion matrix and classification report*"
   ]
  },
  {
   "cell_type": "code",
   "execution_count": 49,
   "metadata": {},
   "outputs": [
    {
     "name": "stdout",
     "output_type": "stream",
     "text": [
      "\n",
      "🧪 Evaluation: Logistic Regression\n",
      "Accuracy: 0.8591\n",
      "Confusion Matrix:\n",
      " [[550  20]\n",
      " [ 74  23]]\n",
      "Classification Report:\n",
      "               precision    recall  f1-score   support\n",
      "\n",
      "           0       0.88      0.96      0.92       570\n",
      "           1       0.53      0.24      0.33        97\n",
      "\n",
      "    accuracy                           0.86       667\n",
      "   macro avg       0.71      0.60      0.62       667\n",
      "weighted avg       0.83      0.86      0.84       667\n",
      "\n",
      "\n",
      "🧪 Evaluation: Decision Tree\n",
      "Accuracy: 0.9115\n",
      "Confusion Matrix:\n",
      " [[545  25]\n",
      " [ 34  63]]\n",
      "Classification Report:\n",
      "               precision    recall  f1-score   support\n",
      "\n",
      "           0       0.94      0.96      0.95       570\n",
      "           1       0.72      0.65      0.68        97\n",
      "\n",
      "    accuracy                           0.91       667\n",
      "   macro avg       0.83      0.80      0.81       667\n",
      "weighted avg       0.91      0.91      0.91       667\n",
      "\n",
      "\n",
      "🧪 Evaluation: Random Forest\n",
      "Accuracy: 0.9415\n",
      "Confusion Matrix:\n",
      " [[561   9]\n",
      " [ 30  67]]\n",
      "Classification Report:\n",
      "               precision    recall  f1-score   support\n",
      "\n",
      "           0       0.95      0.98      0.97       570\n",
      "           1       0.88      0.69      0.77        97\n",
      "\n",
      "    accuracy                           0.94       667\n",
      "   macro avg       0.92      0.84      0.87       667\n",
      "weighted avg       0.94      0.94      0.94       667\n",
      "\n"
     ]
    }
   ],
   "source": [
    "from sklearn.metrics import accuracy_score , classification_report, confusion_matrix\n",
    "\n",
    "def evaluate(model_name, y_test, preds):\n",
    "    print(f\"\\n🧪 Evaluation: {model_name}\")\n",
    "    print(\"Accuracy:\", round(accuracy_score(y_test, preds), 4))\n",
    "    print(\"Confusion Matrix:\\n\", confusion_matrix(y_test, preds))\n",
    "    print(\"Classification Report:\\n\", classification_report(y_test, preds))\n",
    "\n",
    "evaluate(\"Logistic Regression\", y_test, logreg_preds)\n",
    "evaluate(\"Decision Tree\", y_test, dtree.preds)\n",
    "evaluate(\"Random Forest\", y_test, rf_preds)"
   ]
  },
  {
   "cell_type": "markdown",
   "metadata": {},
   "source": [
    "## *🏁 4. Pick the Best Model*\n",
    "\n",
    "*Model Comparison Summary:*\n",
    "\n",
    "1. Logistic Regression provides a good baseline and is interpretable\n",
    "\n",
    "\n",
    "2. Decision Trees are simple but may overfit\n",
    "\n",
    "\n",
    "3. Random Forest usually performs best due to ensemble learning and handles non linear patterns\n",
    "\n",
    "\n",
    "Based on the performance metrics, we choose *Random Forest* for deployment or further tuning."
   ]
  },
  {
   "cell_type": "markdown",
   "metadata": {},
   "source": [
    "## Data Presentation"
   ]
  },
  {
   "cell_type": "markdown",
   "metadata": {},
   "source": [
    "*Below is a simple representation comparing `total day minutes` with `churn` which shows if the relationship is non-linear*"
   ]
  },
  {
   "cell_type": "code",
   "execution_count": 55,
   "metadata": {},
   "outputs": [
    {
     "data": {
      "image/png": "[encoded data removed]",
      "text/plain": [
       "<Figure size 576x360 with 1 Axes>"
      ]
     },
     "metadata": {
      "needs_background": "light"
     },
     "output_type": "display_data"
    }
   ],
   "source": [
    "import seaborn as sns\n",
    "import matplotlib.pyplot as plt\n",
    "\n",
    "# Create a boxplot to compare churn vs total day minutes\n",
    "plt.figure(figsize=(8, 5))\n",
    "sns.boxplot(x='churn', y='total day minutes', data=df)\n",
    "\n",
    "plt.title('Churn vs Total Day Minutes')\n",
    "plt.xlabel('Churn (0 = No, 1 = Yes)')\n",
    "plt.ylabel('Total Day Minutes')\n",
    "plt.show()"
   ]
  },
  {
   "cell_type": "markdown",
   "metadata": {},
   "source": [
    "*This plot helps visualize how the distribution differs between `churned` and `non-churned` users*"
   ]
  },
  {
   "cell_type": "code",
   "execution_count": 56,
   "metadata": {},
   "outputs": [
    {
     "data": {
      "image/png": "[encoded data removed]",
      "text/plain": [
       "<Figure size 720x432 with 1 Axes>"
      ]
     },
     "metadata": {
      "needs_background": "light"
     },
     "output_type": "display_data"
    }
   ],
   "source": [
    "plt.figure(figsize=(10, 6))\n",
    "sns.kdeplot(data=df[df['churn'] == 0], x='total day minutes', label='Not Churned', fill=True)\n",
    "sns.kdeplot(data=df[df['churn'] == 1], x='total day minutes', label='Churned', fill=True, color='red')\n",
    "plt.title('Distribution of Total Day Minutes by Churn')\n",
    "plt.xlabel('Total Day Minutes')\n",
    "plt.legend()\n",
    "plt.show()"
   ]
  },
  {
   "cell_type": "markdown",
   "metadata": {},
   "source": [
    "# 📌 Evaluation Summary\n",
    "\n",
    "\n",
    "\n",
    "- We trained and evaluated three models, that is, Logistic Regression, Decision Tree and Random Forest\n",
    "\n",
    "\n",
    "- *Random Forest* provided the best performance in terms of accuracy and F1 score.\n",
    "\n",
    "\n",
    "- *Top Features* contributing to churn include total day minutes, customer service calls and international plan usage.\n",
    "\n",
    "Random Forest is recommended for deployment if business include high recall and robust prediction"
   ]
  },
  {
   "cell_type": "markdown",
   "metadata": {},
   "source": [
    "# 🧼 Code Quality Reflection\n",
    "\n",
    "This notebook follows clean and reusable coding principles:\n",
    "- Functional structure improves clarity and scalability.\n",
    "- Evaluation is centralized using `evaluate_model()` function.\n",
    "- Preprocessing and scaling are handled cleanly with checks for imbalance and category encoding.\n",
    "\n",
    "Potential improvements:\n",
    "- Add cross-validation to improve model reliability.\n",
    "- Wrap the entire pipeline in a class or script for deployment use.\n"
   ]
  }
 ],
 "metadata": {
  "kernelspec": {
   "display_name": "learn-env",
   "language": "python",
   "name": "python3"
  },
  "language_info": {
   "codemirror_mode": {
    "name": "ipython",
    "version": 3
   },
   "file_extension": ".py",
   "mimetype": "text/x-python",
   "name": "python",
   "nbconvert_exporter": "python",
   "pygments_lexer": "ipython3",
   "version": "3.8.5"
  }
 },
 "nbformat": 4,
 "nbformat_minor": 2
}
